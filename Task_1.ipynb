{
 "cells": [
  {
   "cell_type": "code",
   "execution_count": 1,
   "id": "7556a6ff-64e0-459f-8fb5-597497e6be0b",
   "metadata": {},
   "outputs": [
    {
     "name": "stdout",
     "output_type": "stream",
     "text": [
      "update list :  [10, 2, 3, 4, 5, 6]\n"
     ]
    }
   ],
   "source": [
    "my_list1 = [1,2,3,4,5]\n",
    "my_list1.append(6)\n",
    "my_list1[0] = 10\n",
    "\n",
    "print(\"update list : \",my_list1)"
   ]
  },
  {
   "cell_type": "code",
   "execution_count": 8,
   "id": "4f6c34ce-1127-477a-959d-efe32704ee5a",
   "metadata": {},
   "outputs": [
    {
     "name": "stdout",
     "output_type": "stream",
     "text": [
      "updated Dictionary :  {'name': 'Tushar Verma', 'city': 'California', 'gender': 'Male'}\n"
     ]
    }
   ],
   "source": [
    "my_dict={'name' : 'Tushar Verma', 'age' : 21, 'city' : 'New Delhi'}\n",
    "\n",
    "my_dict['gender'] = 'Male'\n",
    "\n",
    "del my_dict['age']\n",
    "my_dict['city']='California'\n",
    "\n",
    "print('updated Dictionary : ',my_dict)"
   ]
  },
  {
   "cell_type": "code",
   "execution_count": 9,
   "id": "8ba3057c-3490-44c6-9f84-45c2091a02c1",
   "metadata": {},
   "outputs": [
    {
     "name": "stdout",
     "output_type": "stream",
     "text": [
      "updated Set :  {2, 4, 5, 6, 10}\n"
     ]
    }
   ],
   "source": [
    "my_set = {1,2,3,4,5}\n",
    "my_set.add(6)\n",
    "my_set.remove(3)\n",
    "\n",
    "my_set.discard(1)\n",
    "\n",
    "my_set.add(10)\n",
    "print(\"updated Set : \",my_set)"
   ]
  },
  {
   "cell_type": "code",
   "execution_count": null,
   "id": "9370d9d3-4fd1-4b9a-8826-8017ad1737b2",
   "metadata": {},
   "outputs": [],
   "source": []
  }
 ],
 "metadata": {
  "kernelspec": {
   "display_name": "Python 3 (ipykernel)",
   "language": "python",
   "name": "python3"
  },
  "language_info": {
   "codemirror_mode": {
    "name": "ipython",
    "version": 3
   },
   "file_extension": ".py",
   "mimetype": "text/x-python",
   "name": "python",
   "nbconvert_exporter": "python",
   "pygments_lexer": "ipython3",
   "version": "3.12.4"
  }
 },
 "nbformat": 4,
 "nbformat_minor": 5
}
